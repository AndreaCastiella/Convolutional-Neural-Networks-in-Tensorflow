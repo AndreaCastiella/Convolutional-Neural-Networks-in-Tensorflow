{
  "nbformat": 4,
  "nbformat_minor": 0,
  "metadata": {
    "colab": {
      "name": "Course 2 - Part 4 - Lesson 4.ipynb",
      "provenance": [],
      "collapsed_sections": [],
      "authorship_tag": "ABX9TyO/Ydewzp/0MZbFywRT38t5",
      "include_colab_link": true
    },
    "kernelspec": {
      "name": "python3",
      "display_name": "Python 3"
    },
    "language_info": {
      "name": "python"
    },
    "accelerator": "GPU"
  },
  "cells": [
    {
      "cell_type": "markdown",
      "metadata": {
        "id": "view-in-github",
        "colab_type": "text"
      },
      "source": [
        "<a href=\"https://colab.research.google.com/github/AndreaCastiella/Convolutional-Neural-Networks-in-Tensorflow/blob/main/Course_2_Part_4_Lesson_4.ipynb\" target=\"_parent\"><img src=\"https://colab.research.google.com/assets/colab-badge.svg\" alt=\"Open In Colab\"/></a>"
      ]
    },
    {
      "cell_type": "code",
      "metadata": {
        "colab": {
          "base_uri": "https://localhost:8080/"
        },
        "id": "1LSwUXvPSGYp",
        "outputId": "f00ce9da-07a2-4d3e-9a47-43bbd96bd58a"
      },
      "source": [
        "!wget --no-check-certificate \\\n",
        "    https://storage.googleapis.com/laurencemoroney-blog.appspot.com/horse-or-human.zip \\\n",
        "    -O /tmp/horse-or-human.zip\n",
        "\n",
        "!wget --no-check-certificate \\\n",
        "    https://storage.googleapis.com/laurencemoroney-blog.appspot.com/validation-horse-or-human.zip \\\n",
        "    -O /tmp/validation-horse-or-human.zip\n",
        "  \n",
        "import os\n",
        "import zipfile\n",
        "\n",
        "local_zip = '/tmp/horse-or-human.zip'\n",
        "zip_ref = zipfile.ZipFile(local_zip, 'r')\n",
        "zip_ref.extractall('/tmp/horse-or-human')\n",
        "local_zip = '/tmp/validation-horse-or-human.zip'\n",
        "zip_ref = zipfile.ZipFile(local_zip, 'r')\n",
        "zip_ref.extractall('/tmp/validation-horse-or-human')\n",
        "zip_ref.close()\n",
        "# Directory with our training horse pictures\n",
        "train_horse_dir = os.path.join('/tmp/horse-or-human/horses')\n",
        "\n",
        "# Directory with our training human pictures\n",
        "train_human_dir = os.path.join('/tmp/horse-or-human/humans')\n",
        "\n",
        "# Directory with our training horse pictures\n",
        "validation_horse_dir = os.path.join('/tmp/validation-horse-or-human/horses')\n",
        "\n",
        "# Directory with our training human pictures\n",
        "validation_human_dir = os.path.join('/tmp/validation-horse-or-human/humans')"
      ],
      "execution_count": null,
      "outputs": [
        {
          "output_type": "stream",
          "text": [
            "--2021-04-20 18:50:17--  https://storage.googleapis.com/laurencemoroney-blog.appspot.com/horse-or-human.zip\n",
            "Resolving storage.googleapis.com (storage.googleapis.com)... 74.125.135.128, 74.125.142.128, 74.125.195.128, ...\n",
            "Connecting to storage.googleapis.com (storage.googleapis.com)|74.125.135.128|:443... connected.\n",
            "HTTP request sent, awaiting response... 200 OK\n",
            "Length: 149574867 (143M) [application/zip]\n",
            "Saving to: ‘/tmp/horse-or-human.zip’\n",
            "\n",
            "/tmp/horse-or-human 100%[===================>] 142.65M   239MB/s    in 0.6s    \n",
            "\n",
            "2021-04-20 18:50:18 (239 MB/s) - ‘/tmp/horse-or-human.zip’ saved [149574867/149574867]\n",
            "\n",
            "--2021-04-20 18:50:18--  https://storage.googleapis.com/laurencemoroney-blog.appspot.com/validation-horse-or-human.zip\n",
            "Resolving storage.googleapis.com (storage.googleapis.com)... 74.125.20.128, 74.125.142.128, 74.125.195.128, ...\n",
            "Connecting to storage.googleapis.com (storage.googleapis.com)|74.125.20.128|:443... connected.\n",
            "HTTP request sent, awaiting response... 200 OK\n",
            "Length: 11480187 (11M) [application/zip]\n",
            "Saving to: ‘/tmp/validation-horse-or-human.zip’\n",
            "\n",
            "/tmp/validation-hor 100%[===================>]  10.95M  54.2MB/s    in 0.2s    \n",
            "\n",
            "2021-04-20 18:50:19 (54.2 MB/s) - ‘/tmp/validation-horse-or-human.zip’ saved [11480187/11480187]\n",
            "\n"
          ],
          "name": "stdout"
        }
      ]
    },
    {
      "cell_type": "markdown",
      "metadata": {
        "id": "cNK3ps6bSMzS"
      },
      "source": [
        "## Building a Small Model from Scratch\n",
        "\n",
        "But before we continue, let's start defining the model:\n",
        "\n",
        "Step 1 will be to import tensorflow."
      ]
    },
    {
      "cell_type": "code",
      "metadata": {
        "id": "hhjcJ7FrSNlg"
      },
      "source": [
        "import tensorflow as tf"
      ],
      "execution_count": null,
      "outputs": []
    },
    {
      "cell_type": "markdown",
      "metadata": {
        "id": "NmD_7PCqSTfH"
      },
      "source": [
        "We then add convolutional layers as in the previous example, and flatten the final result to feed into the densely connected layers."
      ]
    },
    {
      "cell_type": "markdown",
      "metadata": {
        "id": "3Lr7vsnmSVW5"
      },
      "source": [
        "Finally we add the densely connected layers. \n",
        "\n",
        "Note that because we are facing a two-class classification problem, i.e. a *binary classification problem*, we will end our network with a [*sigmoid* activation](https://wikipedia.org/wiki/Sigmoid_function), so that the output of our network will be a single scalar between 0 and 1, encoding the probability that the current image is class 1 (as opposed to class 0)."
      ]
    },
    {
      "cell_type": "code",
      "metadata": {
        "id": "rX3XLWRpSXK-"
      },
      "source": [
        "model = tf.keras.models.Sequential([\n",
        "                                    tf.keras.layers.Conv2D(16, (3,3), activation='relu', input_shape=(300,300,3)),\n",
        "                                    tf.keras.layers.MaxPooling2D(2,2),\n",
        "                                    tf.keras.layers.Conv2D(32, (3,3), activation='relu'),\n",
        "                                    tf.keras.layers.MaxPooling2D(2,2),\n",
        "                                    tf.keras.layers.Conv2D(64, (3,3), activation='relu'),\n",
        "                                    tf.keras.layers.MaxPooling2D(2,2),\n",
        "                                    tf.keras.layers.Conv2D(64, (3,3), activation='relu'),\n",
        "                                    tf.keras.layers.MaxPooling2D(2,2),\n",
        "                                    tf.keras.layers.Conv2D(64, (3,3), activation='relu'),\n",
        "                                    tf.keras.layers.MaxPooling2D(2,2),\n",
        "                                    tf.keras.layers.Flatten(),\n",
        "                                    tf.keras.layers.Dense(512, activation='relu'),\n",
        "                                    tf.keras.layers.Dense(1, activation='sigmoid')\n",
        "])"
      ],
      "execution_count": null,
      "outputs": []
    },
    {
      "cell_type": "code",
      "metadata": {
        "colab": {
          "base_uri": "https://localhost:8080/"
        },
        "id": "Z5fuk-e5TxtP",
        "outputId": "85a1a2cd-e731-4073-c0c0-bc74d59763a9"
      },
      "source": [
        "from tensorflow.keras.preprocessing.image import ImageDataGenerator\n",
        "\n",
        "train_datagen = ImageDataGenerator(\n",
        "    rescale=1./255.,\n",
        "    rotation_range=40,\n",
        "    width_shift_range=0.2,\n",
        "    height_shift_range=0.2,\n",
        "    shear_range=0.2,\n",
        "    zoom_range=0.2,\n",
        "    horizontal_flip=True,\n",
        "    fill_mode='nearest'\n",
        ")\n",
        "\n",
        "validation_datagen = ImageDataGenerator(rescale=1./255.)\n",
        "\n",
        "train_generator = train_datagen.flow_from_directory(\n",
        "    '/tmp/horse-or-human/',\n",
        "    target_size=(300,300),\n",
        "    batch_size=128,\n",
        "    class_mode='binary'\n",
        ")\n",
        "\n",
        "validation_generator = validation_datagen.flow_from_directory(\n",
        "    '/tmp/validation-horse-or-human/',\n",
        "    target_size=(300,300),\n",
        "    batch_size=32,\n",
        "    class_mode='binary'\n",
        ")"
      ],
      "execution_count": null,
      "outputs": [
        {
          "output_type": "stream",
          "text": [
            "Found 1027 images belonging to 2 classes.\n",
            "Found 256 images belonging to 2 classes.\n"
          ],
          "name": "stdout"
        }
      ]
    },
    {
      "cell_type": "code",
      "metadata": {
        "id": "CjhZOfAxbOP8"
      },
      "source": [
        "from tensorflow.keras.optimizers import RMSprop\n",
        "\n",
        "model.compile(loss='binary_crossentropy',\n",
        "              optimizer=RMSprop(lr=1e-4),\n",
        "              metrics=['acc'])"
      ],
      "execution_count": null,
      "outputs": []
    },
    {
      "cell_type": "code",
      "metadata": {
        "colab": {
          "base_uri": "https://localhost:8080/"
        },
        "id": "ev9AHy_IVJ1r",
        "outputId": "b437245d-6d0c-4418-b983-7a895d3faa5e"
      },
      "source": [
        "history = model.fit(\n",
        "    train_generator,\n",
        "    validation_data=validation_generator,\n",
        "    steps_per_epoch=8,\n",
        "    epochs=100,\n",
        "    verbose=1,\n",
        "    validation_steps=8\n",
        ")"
      ],
      "execution_count": 6,
      "outputs": [
        {
          "output_type": "stream",
          "text": [
            "Epoch 1/100\n",
            "8/8 [==============================] - 27s 2s/step - loss: 0.6905 - acc: 0.5138 - val_loss: 0.6644 - val_acc: 0.5820\n",
            "Epoch 2/100\n",
            "8/8 [==============================] - 22s 3s/step - loss: 0.6835 - acc: 0.6008 - val_loss: 0.6495 - val_acc: 0.5742\n",
            "Epoch 3/100\n",
            "8/8 [==============================] - 22s 3s/step - loss: 0.6545 - acc: 0.6005 - val_loss: 0.6275 - val_acc: 0.5781\n",
            "Epoch 4/100\n",
            "8/8 [==============================] - 22s 3s/step - loss: 0.6478 - acc: 0.6507 - val_loss: 0.5617 - val_acc: 0.8164\n",
            "Epoch 5/100\n",
            "8/8 [==============================] - 22s 3s/step - loss: 0.6489 - acc: 0.6987 - val_loss: 0.5874 - val_acc: 0.6172\n",
            "Epoch 6/100\n",
            "8/8 [==============================] - 22s 3s/step - loss: 0.5813 - acc: 0.7636 - val_loss: 0.5837 - val_acc: 0.6250\n",
            "Epoch 7/100\n",
            "8/8 [==============================] - 22s 3s/step - loss: 0.5477 - acc: 0.7937 - val_loss: 0.5006 - val_acc: 0.7227\n",
            "Epoch 8/100\n",
            "8/8 [==============================] - 21s 3s/step - loss: 0.6365 - acc: 0.6423 - val_loss: 0.7698 - val_acc: 0.5664\n",
            "Epoch 9/100\n",
            "8/8 [==============================] - 21s 3s/step - loss: 0.5653 - acc: 0.7458 - val_loss: 0.7582 - val_acc: 0.5898\n",
            "Epoch 10/100\n",
            "8/8 [==============================] - 21s 3s/step - loss: 0.5270 - acc: 0.7599 - val_loss: 0.6470 - val_acc: 0.6367\n",
            "Epoch 11/100\n",
            "8/8 [==============================] - 21s 3s/step - loss: 0.5050 - acc: 0.7453 - val_loss: 1.0129 - val_acc: 0.5469\n",
            "Epoch 12/100\n",
            "8/8 [==============================] - 21s 3s/step - loss: 0.4929 - acc: 0.7856 - val_loss: 0.8336 - val_acc: 0.6055\n",
            "Epoch 13/100\n",
            "8/8 [==============================] - 21s 3s/step - loss: 0.5023 - acc: 0.7436 - val_loss: 0.9057 - val_acc: 0.6133\n",
            "Epoch 14/100\n",
            "8/8 [==============================] - 21s 3s/step - loss: 0.5159 - acc: 0.7591 - val_loss: 0.7532 - val_acc: 0.6602\n",
            "Epoch 15/100\n",
            "8/8 [==============================] - 23s 3s/step - loss: 0.4593 - acc: 0.8038 - val_loss: 1.1154 - val_acc: 0.5938\n",
            "Epoch 16/100\n",
            "8/8 [==============================] - 21s 3s/step - loss: 0.4664 - acc: 0.7895 - val_loss: 0.8302 - val_acc: 0.6250\n",
            "Epoch 17/100\n",
            "8/8 [==============================] - 22s 3s/step - loss: 0.4263 - acc: 0.8034 - val_loss: 1.1201 - val_acc: 0.6055\n",
            "Epoch 18/100\n",
            "8/8 [==============================] - 22s 3s/step - loss: 0.4407 - acc: 0.7948 - val_loss: 1.5073 - val_acc: 0.5508\n",
            "Epoch 19/100\n",
            "8/8 [==============================] - 22s 3s/step - loss: 0.4308 - acc: 0.8216 - val_loss: 0.9966 - val_acc: 0.6328\n",
            "Epoch 20/100\n",
            "8/8 [==============================] - 22s 3s/step - loss: 0.4077 - acc: 0.8125 - val_loss: 1.2909 - val_acc: 0.5820\n",
            "Epoch 21/100\n",
            "8/8 [==============================] - 22s 3s/step - loss: 0.4061 - acc: 0.8304 - val_loss: 1.5225 - val_acc: 0.5586\n",
            "Epoch 22/100\n",
            "8/8 [==============================] - 22s 3s/step - loss: 0.3894 - acc: 0.8327 - val_loss: 1.2381 - val_acc: 0.5859\n",
            "Epoch 23/100\n",
            "8/8 [==============================] - 22s 3s/step - loss: 0.3930 - acc: 0.8439 - val_loss: 1.4380 - val_acc: 0.5820\n",
            "Epoch 24/100\n",
            "8/8 [==============================] - 22s 3s/step - loss: 0.3755 - acc: 0.8477 - val_loss: 1.3437 - val_acc: 0.6172\n",
            "Epoch 25/100\n",
            "8/8 [==============================] - 22s 3s/step - loss: 0.4066 - acc: 0.8200 - val_loss: 1.2903 - val_acc: 0.6289\n",
            "Epoch 26/100\n",
            "8/8 [==============================] - 22s 3s/step - loss: 0.3531 - acc: 0.8504 - val_loss: 2.0628 - val_acc: 0.5430\n",
            "Epoch 27/100\n",
            "8/8 [==============================] - 22s 3s/step - loss: 0.4692 - acc: 0.7604 - val_loss: 1.5911 - val_acc: 0.5781\n",
            "Epoch 28/100\n",
            "8/8 [==============================] - 22s 3s/step - loss: 0.4076 - acc: 0.8330 - val_loss: 1.5202 - val_acc: 0.5781\n",
            "Epoch 29/100\n",
            "8/8 [==============================] - 22s 3s/step - loss: 0.3534 - acc: 0.8514 - val_loss: 1.9934 - val_acc: 0.5430\n",
            "Epoch 30/100\n",
            "8/8 [==============================] - 22s 3s/step - loss: 0.4441 - acc: 0.8006 - val_loss: 1.4256 - val_acc: 0.5938\n",
            "Epoch 31/100\n",
            "8/8 [==============================] - 21s 3s/step - loss: 0.3087 - acc: 0.9079 - val_loss: 2.1067 - val_acc: 0.5508\n",
            "Epoch 32/100\n",
            "8/8 [==============================] - 21s 3s/step - loss: 0.3100 - acc: 0.8704 - val_loss: 1.7018 - val_acc: 0.5859\n",
            "Epoch 33/100\n",
            "8/8 [==============================] - 22s 3s/step - loss: 0.3409 - acc: 0.8526 - val_loss: 1.6650 - val_acc: 0.6016\n",
            "Epoch 34/100\n",
            "8/8 [==============================] - 21s 3s/step - loss: 0.2935 - acc: 0.8911 - val_loss: 1.3119 - val_acc: 0.6172\n",
            "Epoch 35/100\n",
            "8/8 [==============================] - 21s 3s/step - loss: 0.3121 - acc: 0.8769 - val_loss: 1.7035 - val_acc: 0.5898\n",
            "Epoch 36/100\n",
            "8/8 [==============================] - 22s 3s/step - loss: 0.2883 - acc: 0.8987 - val_loss: 2.0298 - val_acc: 0.5742\n",
            "Epoch 37/100\n",
            "8/8 [==============================] - 22s 3s/step - loss: 0.3569 - acc: 0.8372 - val_loss: 1.5942 - val_acc: 0.6016\n",
            "Epoch 38/100\n",
            "8/8 [==============================] - 24s 3s/step - loss: 0.2607 - acc: 0.8986 - val_loss: 1.2403 - val_acc: 0.6797\n",
            "Epoch 39/100\n",
            "8/8 [==============================] - 21s 3s/step - loss: 0.3780 - acc: 0.8247 - val_loss: 1.9468 - val_acc: 0.5938\n",
            "Epoch 40/100\n",
            "8/8 [==============================] - 22s 3s/step - loss: 0.3537 - acc: 0.8321 - val_loss: 1.9014 - val_acc: 0.5938\n",
            "Epoch 41/100\n",
            "8/8 [==============================] - 21s 3s/step - loss: 0.2678 - acc: 0.8989 - val_loss: 1.5808 - val_acc: 0.6328\n",
            "Epoch 42/100\n",
            "8/8 [==============================] - 22s 3s/step - loss: 0.2653 - acc: 0.8810 - val_loss: 1.9062 - val_acc: 0.5938\n",
            "Epoch 43/100\n",
            "8/8 [==============================] - 22s 3s/step - loss: 0.2701 - acc: 0.8835 - val_loss: 1.1793 - val_acc: 0.6953\n",
            "Epoch 44/100\n",
            "8/8 [==============================] - 22s 3s/step - loss: 0.2787 - acc: 0.8978 - val_loss: 1.6036 - val_acc: 0.6836\n",
            "Epoch 45/100\n",
            "8/8 [==============================] - 21s 3s/step - loss: 0.3087 - acc: 0.8635 - val_loss: 2.1786 - val_acc: 0.5859\n",
            "Epoch 46/100\n",
            "8/8 [==============================] - 22s 3s/step - loss: 0.2389 - acc: 0.9182 - val_loss: 1.9278 - val_acc: 0.6211\n",
            "Epoch 47/100\n",
            "8/8 [==============================] - 22s 3s/step - loss: 0.2824 - acc: 0.8817 - val_loss: 1.1991 - val_acc: 0.6953\n",
            "Epoch 48/100\n",
            "8/8 [==============================] - 22s 3s/step - loss: 0.4689 - acc: 0.8246 - val_loss: 2.1025 - val_acc: 0.5938\n",
            "Epoch 49/100\n",
            "8/8 [==============================] - 22s 3s/step - loss: 0.2533 - acc: 0.9001 - val_loss: 2.0909 - val_acc: 0.6016\n",
            "Epoch 50/100\n",
            "8/8 [==============================] - 22s 3s/step - loss: 0.2110 - acc: 0.9136 - val_loss: 1.7698 - val_acc: 0.6328\n",
            "Epoch 51/100\n",
            "8/8 [==============================] - 22s 3s/step - loss: 0.2308 - acc: 0.9105 - val_loss: 2.6531 - val_acc: 0.5742\n",
            "Epoch 52/100\n",
            "8/8 [==============================] - 22s 3s/step - loss: 0.2273 - acc: 0.9132 - val_loss: 1.8804 - val_acc: 0.6172\n",
            "Epoch 53/100\n",
            "8/8 [==============================] - 22s 3s/step - loss: 0.2475 - acc: 0.8923 - val_loss: 2.0633 - val_acc: 0.6094\n",
            "Epoch 54/100\n",
            "8/8 [==============================] - 22s 3s/step - loss: 0.1979 - acc: 0.9204 - val_loss: 2.0271 - val_acc: 0.6289\n",
            "Epoch 55/100\n",
            "8/8 [==============================] - 21s 3s/step - loss: 0.1804 - acc: 0.9302 - val_loss: 2.5626 - val_acc: 0.5977\n",
            "Epoch 56/100\n",
            "8/8 [==============================] - 21s 3s/step - loss: 0.2781 - acc: 0.8898 - val_loss: 2.2136 - val_acc: 0.6172\n",
            "Epoch 57/100\n",
            "8/8 [==============================] - 21s 3s/step - loss: 0.1822 - acc: 0.9351 - val_loss: 1.5821 - val_acc: 0.6953\n",
            "Epoch 58/100\n",
            "8/8 [==============================] - 21s 3s/step - loss: 0.2884 - acc: 0.8783 - val_loss: 2.1976 - val_acc: 0.6250\n",
            "Epoch 59/100\n",
            "8/8 [==============================] - 21s 3s/step - loss: 0.2327 - acc: 0.9091 - val_loss: 1.4589 - val_acc: 0.6992\n",
            "Epoch 60/100\n",
            "8/8 [==============================] - 21s 3s/step - loss: 0.3088 - acc: 0.8526 - val_loss: 1.9716 - val_acc: 0.6055\n",
            "Epoch 61/100\n",
            "8/8 [==============================] - 22s 3s/step - loss: 0.1853 - acc: 0.9419 - val_loss: 1.8622 - val_acc: 0.6406\n",
            "Epoch 62/100\n",
            "8/8 [==============================] - 22s 3s/step - loss: 0.1976 - acc: 0.9191 - val_loss: 1.9458 - val_acc: 0.6602\n",
            "Epoch 63/100\n",
            "8/8 [==============================] - 22s 3s/step - loss: 0.2450 - acc: 0.9008 - val_loss: 3.4197 - val_acc: 0.5625\n",
            "Epoch 64/100\n",
            "8/8 [==============================] - 22s 3s/step - loss: 0.1730 - acc: 0.9351 - val_loss: 2.2927 - val_acc: 0.6484\n",
            "Epoch 65/100\n",
            "8/8 [==============================] - 22s 3s/step - loss: 0.2847 - acc: 0.8861 - val_loss: 2.2603 - val_acc: 0.6289\n",
            "Epoch 66/100\n",
            "8/8 [==============================] - 22s 3s/step - loss: 0.2454 - acc: 0.9109 - val_loss: 2.6917 - val_acc: 0.6016\n",
            "Epoch 67/100\n",
            "8/8 [==============================] - 22s 3s/step - loss: 0.1647 - acc: 0.9370 - val_loss: 2.5730 - val_acc: 0.6211\n",
            "Epoch 68/100\n",
            "8/8 [==============================] - 22s 3s/step - loss: 0.3038 - acc: 0.8481 - val_loss: 2.0883 - val_acc: 0.6641\n",
            "Epoch 69/100\n",
            "8/8 [==============================] - 22s 3s/step - loss: 0.1975 - acc: 0.9107 - val_loss: 2.5217 - val_acc: 0.6328\n",
            "Epoch 70/100\n",
            "8/8 [==============================] - 22s 3s/step - loss: 0.1473 - acc: 0.9430 - val_loss: 2.2535 - val_acc: 0.6562\n",
            "Epoch 71/100\n",
            "8/8 [==============================] - 22s 3s/step - loss: 0.1946 - acc: 0.9109 - val_loss: 1.9942 - val_acc: 0.6758\n",
            "Epoch 72/100\n",
            "8/8 [==============================] - 22s 3s/step - loss: 0.1751 - acc: 0.9282 - val_loss: 1.5448 - val_acc: 0.6992\n",
            "Epoch 73/100\n",
            "8/8 [==============================] - 22s 3s/step - loss: 0.2325 - acc: 0.9117 - val_loss: 3.1598 - val_acc: 0.5859\n",
            "Epoch 74/100\n",
            "8/8 [==============================] - 22s 3s/step - loss: 0.2288 - acc: 0.9121 - val_loss: 2.1507 - val_acc: 0.6289\n",
            "Epoch 75/100\n",
            "8/8 [==============================] - 24s 3s/step - loss: 0.1449 - acc: 0.9449 - val_loss: 2.3573 - val_acc: 0.6328\n",
            "Epoch 76/100\n",
            "8/8 [==============================] - 22s 3s/step - loss: 0.1389 - acc: 0.9439 - val_loss: 2.3591 - val_acc: 0.6602\n",
            "Epoch 77/100\n",
            "8/8 [==============================] - 22s 3s/step - loss: 0.1659 - acc: 0.9392 - val_loss: 4.4844 - val_acc: 0.5234\n",
            "Epoch 78/100\n",
            "8/8 [==============================] - 22s 3s/step - loss: 0.2256 - acc: 0.9219 - val_loss: 1.9374 - val_acc: 0.6484\n",
            "Epoch 79/100\n",
            "8/8 [==============================] - 22s 3s/step - loss: 0.1648 - acc: 0.9282 - val_loss: 2.0317 - val_acc: 0.6523\n",
            "Epoch 80/100\n",
            "8/8 [==============================] - 22s 3s/step - loss: 0.1235 - acc: 0.9588 - val_loss: 2.8435 - val_acc: 0.6172\n",
            "Epoch 81/100\n",
            "8/8 [==============================] - 24s 3s/step - loss: 0.1727 - acc: 0.9314 - val_loss: 2.6584 - val_acc: 0.6094\n",
            "Epoch 82/100\n",
            "8/8 [==============================] - 22s 3s/step - loss: 0.2510 - acc: 0.8961 - val_loss: 1.9512 - val_acc: 0.6680\n",
            "Epoch 83/100\n",
            "8/8 [==============================] - 21s 3s/step - loss: 0.1820 - acc: 0.9213 - val_loss: 0.9152 - val_acc: 0.8047\n",
            "Epoch 84/100\n",
            "8/8 [==============================] - 22s 3s/step - loss: 0.3633 - acc: 0.8640 - val_loss: 3.1445 - val_acc: 0.6133\n",
            "Epoch 85/100\n",
            "8/8 [==============================] - 22s 3s/step - loss: 0.1624 - acc: 0.9323 - val_loss: 3.7916 - val_acc: 0.5664\n",
            "Epoch 86/100\n",
            "8/8 [==============================] - 22s 3s/step - loss: 0.1466 - acc: 0.9417 - val_loss: 2.9193 - val_acc: 0.6250\n",
            "Epoch 87/100\n",
            "8/8 [==============================] - 22s 3s/step - loss: 0.1924 - acc: 0.9322 - val_loss: 2.4981 - val_acc: 0.6445\n",
            "Epoch 88/100\n",
            "8/8 [==============================] - 22s 3s/step - loss: 0.1387 - acc: 0.9369 - val_loss: 2.9042 - val_acc: 0.5898\n",
            "Epoch 89/100\n",
            "8/8 [==============================] - 22s 3s/step - loss: 0.1419 - acc: 0.9416 - val_loss: 4.3821 - val_acc: 0.5273\n",
            "Epoch 90/100\n",
            "8/8 [==============================] - 22s 3s/step - loss: 0.1847 - acc: 0.9174 - val_loss: 2.2441 - val_acc: 0.6680\n",
            "Epoch 91/100\n",
            "8/8 [==============================] - 22s 3s/step - loss: 0.1983 - acc: 0.9079 - val_loss: 2.4355 - val_acc: 0.6562\n",
            "Epoch 92/100\n",
            "8/8 [==============================] - 22s 3s/step - loss: 0.0996 - acc: 0.9728 - val_loss: 2.0606 - val_acc: 0.6797\n",
            "Epoch 93/100\n",
            "8/8 [==============================] - 22s 3s/step - loss: 0.1288 - acc: 0.9571 - val_loss: 4.4875 - val_acc: 0.5508\n",
            "Epoch 94/100\n",
            "8/8 [==============================] - 22s 3s/step - loss: 0.1552 - acc: 0.9346 - val_loss: 2.9044 - val_acc: 0.6484\n",
            "Epoch 95/100\n",
            "8/8 [==============================] - 22s 3s/step - loss: 0.1927 - acc: 0.9168 - val_loss: 3.0219 - val_acc: 0.6172\n",
            "Epoch 96/100\n",
            "8/8 [==============================] - 22s 3s/step - loss: 0.2110 - acc: 0.9275 - val_loss: 2.1075 - val_acc: 0.6641\n",
            "Epoch 97/100\n",
            "8/8 [==============================] - 22s 3s/step - loss: 0.1329 - acc: 0.9498 - val_loss: 2.4233 - val_acc: 0.6680\n",
            "Epoch 98/100\n",
            "8/8 [==============================] - 24s 3s/step - loss: 0.1222 - acc: 0.9548 - val_loss: 2.4608 - val_acc: 0.6680\n",
            "Epoch 99/100\n",
            "8/8 [==============================] - 24s 3s/step - loss: 0.1082 - acc: 0.9582 - val_loss: 2.9476 - val_acc: 0.6484\n",
            "Epoch 100/100\n",
            "8/8 [==============================] - 21s 3s/step - loss: 0.1263 - acc: 0.9567 - val_loss: 4.1699 - val_acc: 0.5547\n"
          ],
          "name": "stdout"
        }
      ]
    },
    {
      "cell_type": "code",
      "metadata": {
        "id": "4ia-JtkWXmRH",
        "colab": {
          "base_uri": "https://localhost:8080/",
          "height": 299
        },
        "outputId": "be442633-4164-4753-9118-3cbbbd1725aa"
      },
      "source": [
        "import matplotlib.pyplot as plt\n",
        "acc = history.history['acc']\n",
        "val_acc = history.history['loss'],\n",
        "loss = history.history['val_loss']\n",
        "\n",
        "epochs = range(len(acc))\n",
        "\n",
        "plt.plot(epochs, acc, 'r', label='Training accuracy')\n",
        "plt.plot(epochs, loss, 'b', label='Training Loss')\n",
        "plt.title('Training and validation loss')\n",
        "plt.legend()\n",
        "\n",
        "plt.show"
      ],
      "execution_count": 8,
      "outputs": [
        {
          "output_type": "execute_result",
          "data": {
            "text/plain": [
              "<function matplotlib.pyplot.show>"
            ]
          },
          "metadata": {
            "tags": []
          },
          "execution_count": 8
        },
        {
          "output_type": "display_data",
          "data": {
            "image/png": "[encoded data removed]",
            "text/plain": [
              "<Figure size 432x288 with 1 Axes>"
            ]
          },
          "metadata": {
            "tags": [],
            "needs_background": "light"
          }
        }
      ]
    }
  ]
}